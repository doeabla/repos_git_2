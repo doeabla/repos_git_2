{
 "cells": [
  {
   "cell_type": "code",
   "execution_count": 1,
   "id": "0e6c2c0c-a1f5-4857-9819-be3a76e24744",
   "metadata": {},
   "outputs": [],
   "source": [
    "import warnings\n",
    "warnings.filterwarnings(\"ignore\", category=DeprecationWarning)\n",
    "\n",
    "import numpy as np\n",
    "import pandas as pd\n",
    "\n",
    "from sklearn.datasets import fetch_openml\n",
    "from sklearn.datasets import load_digits\n",
    "\n",
    "import matplotlib as mpl\n",
    "import matplotlib.pyplot as plt\n",
    "\n",
    "from scipy.ndimage import shift"
   ]
  },
  {
   "cell_type": "code",
   "execution_count": 2,
   "id": "77051958-3863-405b-bf09-87aab2acb705",
   "metadata": {},
   "outputs": [
    {
     "data": {
      "text/plain": [
       "sklearn.utils._bunch.Bunch"
      ]
     },
     "execution_count": 2,
     "metadata": {},
     "output_type": "execute_result"
    }
   ],
   "source": [
    "mnist = mnist = fetch_openml('mnist_784', version=1)\n",
    "type(mnist)"
   ]
  },
  {
   "cell_type": "code",
   "execution_count": 3,
   "id": "6da7eb30-c1e6-49c4-ba4d-c3ae49bcd5e1",
   "metadata": {},
   "outputs": [
    {
     "data": {
      "image/png": "[encoded data removed]",
      "text/plain": [
       "<Figure size 432x288 with 1 Axes>"
      ]
     },
     "metadata": {
      "needs_background": "light"
     },
     "output_type": "display_data"
    }
   ],
   "source": [
    "# Get the image data\n",
    "I = mnist.data\n",
    "\n",
    "# Convert the data to numpy array\n",
    "I = np.array(I)\n",
    "\n",
    "# Select a single image from the dataset\n",
    "image_index = 2\n",
    "image = I[image_index]\n",
    "\n",
    "# Reshape the image to its original shape (28x28)\n",
    "image = image.reshape(28, 28)\n",
    "\n",
    "# Display the image\n",
    "plt.imshow(image, cmap='gray')\n",
    "plt.axis('off')\n",
    "plt.show()"
   ]
  },
  {
   "cell_type": "code",
   "execution_count": 29,
   "id": "c7705a15-eb1b-4c49-b7e1-1f1dffeda260",
   "metadata": {},
   "outputs": [
    {
     "data": {
      "image/png": "[encoded data removed]",
      "text/plain": [
       "<Figure size 432x288 with 1 Axes>"
      ]
     },
     "metadata": {
      "needs_background": "light"
     },
     "output_type": "display_data"
    },
    {
     "name": "stdin",
     "output_type": "stream",
     "text": [
      "Please enter the shift amount:  5\n",
      "Please enter the direction: \"left\", \"up\", \"down\", or \"right\":  up\n"
     ]
    },
    {
     "data": {
      "image/png": "[encoded data removed]",
      "text/plain": [
       "<Figure size 576x288 with 2 Axes>"
      ]
     },
     "metadata": {
      "needs_background": "light"
     },
     "output_type": "display_data"
    }
   ],
   "source": [
    "# Get the image data\n",
    "I = mnist.data\n",
    "\n",
    "# Convert the data to a numpy array\n",
    "I = np.array(I)\n",
    "\n",
    "# Select a single image from the dataset\n",
    "image_index = 2\n",
    "image = I[image_index]\n",
    "\n",
    "# Reshape the image to its original shape (28x28)\n",
    "image = image.reshape(28, 28)\n",
    "\n",
    "# Display the image\n",
    "plt.imshow(image, cmap='gray')\n",
    "plt.axis('off')\n",
    "plt.show()\n",
    "\n",
    "def shift_image(image, shift_amount, img_dirc):\n",
    "    up = [-shift_amount, 0]\n",
    "    down = [shift_amount, 0]\n",
    "    right = [0, shift_amount]\n",
    "    left = [0, -shift_amount]\n",
    "\n",
    "    img_dirc = img_dirc.lower()\n",
    "\n",
    "    if img_dirc == \"up\":\n",
    "        # Shift the image up\n",
    "        shifted_image = shift(image, up, cval=0)\n",
    "    elif img_dirc == \"down\":\n",
    "        # Shift the image down\n",
    "        shifted_image = shift(image, down, cval=0)\n",
    "    elif img_dirc == \"right\":\n",
    "        # Shift the image right\n",
    "        shifted_image = shift(image, right, cval=0)\n",
    "    elif img_dirc == \"left\":\n",
    "        # Shift the image left\n",
    "        shifted_image = shift(image, left, cval=0)\n",
    "    else:\n",
    "        print(\"Invalid direction. Please try again.\")\n",
    "        return\n",
    "\n",
    "    # Display the original and shifted images\n",
    "    fig, axs = plt.subplots(1, 2, figsize=(8, 4))\n",
    "    axs[0].imshow(image, cmap='gray')\n",
    "    axs[0].set_title('Original Image')\n",
    "    axs[0].axis('off')\n",
    "\n",
    "    axs[1].imshow(shifted_image, cmap='gray')\n",
    "    axs[1].set_title('Shifted Image (' + img_dirc + ')')\n",
    "    axs[1].axis('off')\n",
    "\n",
    "    plt.tight_layout()\n",
    "    plt.show()\n",
    "\n",
    "# Define the shift amount (number of pixels)\n",
    "shift_amount = int(input('Please enter the shift amount: '))\n",
    "img_dirc = input('Please enter the direction: \"left\", \"up\", \"down\", or \"right\": ')\n",
    "\n",
    "# Call the shift_image function to shift and display the image\n",
    "shift_image(image, shift_amount, img_dirc)\n"
   ]
  },
  {
   "cell_type": "code",
   "execution_count": null,
   "id": "78a4b35f-71c4-457b-b76a-97c2f2e26cc9",
   "metadata": {},
   "outputs": [],
   "source": []
  }
 ],
 "metadata": {
  "kernelspec": {
   "display_name": "Python 3 (ipykernel)",
   "language": "python",
   "name": "python3"
  },
  "language_info": {
   "codemirror_mode": {
    "name": "ipython",
    "version": 3
   },
   "file_extension": ".py",
   "mimetype": "text/x-python",
   "name": "python",
   "nbconvert_exporter": "python",
   "pygments_lexer": "ipython3",
   "version": "3.10.11"
  }
 },
 "nbformat": 4,
 "nbformat_minor": 5
}
